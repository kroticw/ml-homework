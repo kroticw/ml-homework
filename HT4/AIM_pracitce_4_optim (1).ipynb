{
 "cells": [
  {
   "cell_type": "code",
   "id": "7ae4ac1b",
   "metadata": {
    "ExecuteTime": {
     "end_time": "2024-12-03T05:41:24.214604Z",
     "start_time": "2024-12-03T05:40:28.397752Z"
    }
   },
   "source": [
    "import torch\n",
    "from torch import nn\n",
    "from torch.utils.data import DataLoader\n",
    "from torchvision import datasets\n",
    "from torchvision.transforms import ToTensor\n",
    "\n",
    "training_data = datasets.FashionMNIST(\n",
    "    root=\"data\",\n",
    "    train=True,\n",
    "    download=True,\n",
    "    transform=ToTensor()\n",
    ")\n",
    "\n",
    "test_data = datasets.FashionMNIST(\n",
    "    root=\"data\",\n",
    "    train=False,\n",
    "    download=True,\n",
    "    transform=ToTensor()\n",
    ")\n",
    "\n",
    "train_dataloader = DataLoader(training_data, batch_size=64)\n",
    "test_dataloader = DataLoader(test_data, batch_size=64)\n",
    "\n",
    "class NeuralNetwork(nn.Module):\n",
    "    def __init__(self):\n",
    "        super().__init__()\n",
    "        self.flatten = nn.Flatten()\n",
    "        self.linear_relu_stack = nn.Sequential(\n",
    "            nn.Linear(28*28, 512),\n",
    "            nn.ReLU(),\n",
    "            nn.Linear(512, 512),\n",
    "            nn.ReLU(),\n",
    "            nn.Linear(512, 10),\n",
    "        )\n",
    "\n",
    "    def forward(self, x):\n",
    "        x = self.flatten(x)\n",
    "        logits = self.linear_relu_stack(x)\n",
    "        return logits\n",
    "\n",
    "model = NeuralNetwork()"
   ],
   "outputs": [
    {
     "name": "stdout",
     "output_type": "stream",
     "text": [
      "Downloading http://fashion-mnist.s3-website.eu-central-1.amazonaws.com/train-images-idx3-ubyte.gz\n",
      "Downloading http://fashion-mnist.s3-website.eu-central-1.amazonaws.com/train-images-idx3-ubyte.gz to data/FashionMNIST/raw/train-images-idx3-ubyte.gz\n"
     ]
    },
    {
     "name": "stderr",
     "output_type": "stream",
     "text": [
      "100.0%\n"
     ]
    },
    {
     "name": "stdout",
     "output_type": "stream",
     "text": [
      "Extracting data/FashionMNIST/raw/train-images-idx3-ubyte.gz to data/FashionMNIST/raw\n",
      "\n",
      "Downloading http://fashion-mnist.s3-website.eu-central-1.amazonaws.com/train-labels-idx1-ubyte.gz\n",
      "Downloading http://fashion-mnist.s3-website.eu-central-1.amazonaws.com/train-labels-idx1-ubyte.gz to data/FashionMNIST/raw/train-labels-idx1-ubyte.gz\n"
     ]
    },
    {
     "name": "stderr",
     "output_type": "stream",
     "text": [
      "100.0%\n"
     ]
    },
    {
     "name": "stdout",
     "output_type": "stream",
     "text": [
      "Extracting data/FashionMNIST/raw/train-labels-idx1-ubyte.gz to data/FashionMNIST/raw\n",
      "\n",
      "Downloading http://fashion-mnist.s3-website.eu-central-1.amazonaws.com/t10k-images-idx3-ubyte.gz\n",
      "Downloading http://fashion-mnist.s3-website.eu-central-1.amazonaws.com/t10k-images-idx3-ubyte.gz to data/FashionMNIST/raw/t10k-images-idx3-ubyte.gz\n"
     ]
    },
    {
     "name": "stderr",
     "output_type": "stream",
     "text": [
      "100.0%\n"
     ]
    },
    {
     "name": "stdout",
     "output_type": "stream",
     "text": [
      "Extracting data/FashionMNIST/raw/t10k-images-idx3-ubyte.gz to data/FashionMNIST/raw\n",
      "\n",
      "Downloading http://fashion-mnist.s3-website.eu-central-1.amazonaws.com/t10k-labels-idx1-ubyte.gz\n",
      "Downloading http://fashion-mnist.s3-website.eu-central-1.amazonaws.com/t10k-labels-idx1-ubyte.gz to data/FashionMNIST/raw/t10k-labels-idx1-ubyte.gz\n"
     ]
    },
    {
     "name": "stderr",
     "output_type": "stream",
     "text": [
      "100.0%"
     ]
    },
    {
     "name": "stdout",
     "output_type": "stream",
     "text": [
      "Extracting data/FashionMNIST/raw/t10k-labels-idx1-ubyte.gz to data/FashionMNIST/raw\n",
      "\n"
     ]
    },
    {
     "name": "stderr",
     "output_type": "stream",
     "text": [
      "\n"
     ]
    }
   ],
   "execution_count": 1
  },
  {
   "cell_type": "code",
   "id": "c79e09b7",
   "metadata": {
    "ExecuteTime": {
     "end_time": "2024-12-03T05:41:24.259492Z",
     "start_time": "2024-12-03T05:41:24.256008Z"
    }
   },
   "source": [
    "loss_fn = nn.CrossEntropyLoss()"
   ],
   "outputs": [],
   "execution_count": 2
  },
  {
   "cell_type": "code",
   "id": "c3452250",
   "metadata": {
    "ExecuteTime": {
     "end_time": "2024-12-03T05:41:24.389265Z",
     "start_time": "2024-12-03T05:41:24.263806Z"
    }
   },
   "source": [
    "optimizer = torch.optim.SGD(model.parameters(), lr=learning_rate)"
   ],
   "outputs": [
    {
     "ename": "NameError",
     "evalue": "name 'learning_rate' is not defined",
     "output_type": "error",
     "traceback": [
      "\u001B[0;31m---------------------------------------------------------------------------\u001B[0m",
      "\u001B[0;31mNameError\u001B[0m                                 Traceback (most recent call last)",
      "Cell \u001B[0;32mIn[3], line 1\u001B[0m\n\u001B[0;32m----> 1\u001B[0m optimizer \u001B[38;5;241m=\u001B[39m torch\u001B[38;5;241m.\u001B[39moptim\u001B[38;5;241m.\u001B[39mSGD(model\u001B[38;5;241m.\u001B[39mparameters(), lr\u001B[38;5;241m=\u001B[39m\u001B[43mlearning_rate\u001B[49m)\n",
      "\u001B[0;31mNameError\u001B[0m: name 'learning_rate' is not defined"
     ]
    }
   ],
   "execution_count": 3
  },
  {
   "cell_type": "code",
   "execution_count": 11,
   "id": "87ce9307",
   "metadata": {},
   "outputs": [],
   "source": [
    "def train_loop(dataloader, model, loss_fn, optimizer):\n",
    "    size = len(dataloader.dataset)\n",
    "    # Set the model to training mode - important for batch normalization and dropout layers\n",
    "    # Unnecessary in this situation but added for best practices\n",
    "    model.train()\n",
    "    for batch, (X, y) in enumerate(dataloader):\n",
    "        # Compute prediction and loss\n",
    "        pred = model(X)\n",
    "        loss = loss_fn(pred, y)\n",
    "        sum_loss += loss.item()\n",
    "\n",
    "        # Backpropagation\n",
    "        loss.backward()\n",
    "        optimizer.step()\n",
    "        optimizer.zero_grad()\n",
    "\n",
    "        if batch % 100 == 0:\n",
    "            loss, current = loss.item(), batch * batch_size + len(X)\n",
    "            print(f\"loss: {loss:>7f}  [{current:>5d}/{size:>5d}]\")"
   ]
  },
  {
   "cell_type": "code",
   "execution_count": 19,
   "id": "accbbee8",
   "metadata": {},
   "outputs": [],
   "source": [
    "def test_loop(dataloader, model, loss_fn):\n",
    "    # Set the model to evaluation mode - important for batch normalization and dropout layers\n",
    "    # Unnecessary in this situation but added for best practices\n",
    "    model.eval()\n",
    "    size = len(dataloader.dataset)\n",
    "    num_batches = len(dataloader)\n",
    "    test_loss, correct = 0, 0\n",
    "\n",
    "    # Evaluating the model with torch.no_grad() ensures that no gradients are computed during test mode\n",
    "    # also serves to reduce unnecessary gradient computations and memory usage for tensors with requires_grad=True\n",
    "    with torch.no_grad():\n",
    "        for X, y in dataloader:\n",
    "            pred = model(X)\n",
    "            test_loss += loss_fn(pred, y).item()\n",
    "            correct += (pred.argmax(1) == y).type(torch.float).sum().item()\n",
    "\n",
    "    test_loss /= num_batches\n",
    "    correct /= size\n",
    "    print(f\"Test Error: \\n Accuracy: {(100*correct):>0.1f}%, Avg loss: {test_loss:>8f} \\n\")\n",
    "    return correct, test_loss"
   ]
  },
  {
   "cell_type": "code",
   "execution_count": 48,
   "id": "8519c8f7",
   "metadata": {},
   "outputs": [],
   "source": [
    "def run_training(epochs, train_dataloader, model, loss_fn, optimizer):\n",
    "    test_loss = []\n",
    "    for t in range(epochs):\n",
    "        print(f\"Epoch {t+1}\\n-------------------------------\")\n",
    "        sum_loss = train_loop(train_dataloader, model, loss_fn, optimizer)\n",
    "        train_loss.append(sum_loss)\n",
    "\n",
    "        acc, avg_loss = test_loop(test_dataloader, model, loss_fn)\n",
    "        test_loss.append(avg_loss)\n",
    "    print(\"Done!\")\n",
    "    \n",
    "    return test_loss"
   ]
  },
  {
   "cell_type": "code",
   "execution_count": 49,
   "id": "27de1979",
   "metadata": {},
   "outputs": [],
   "source": [
    "optimizer = torch.optim.SGD(model.parameters(), lr=learning_rate)\n",
    "learning_rate = 1e-3\n",
    "batch_size = 64\n",
    "epochs = 5"
   ]
  },
  {
   "cell_type": "code",
   "execution_count": 50,
   "id": "8daa2ffe",
   "metadata": {},
   "outputs": [
    {
     "name": "stdout",
     "output_type": "stream",
     "text": [
      "Epoch 1\n",
      "-------------------------------\n",
      "loss: 0.270989  [   64/60000]\n",
      "loss: 0.362948  [ 6464/60000]\n",
      "loss: 0.229244  [12864/60000]\n",
      "loss: 0.379360  [19264/60000]\n",
      "loss: 0.319152  [25664/60000]\n",
      "loss: 0.353176  [32064/60000]\n",
      "loss: 0.304867  [38464/60000]\n",
      "loss: 0.418580  [44864/60000]\n",
      "loss: 0.442949  [51264/60000]\n",
      "loss: 0.347890  [57664/60000]\n",
      "Test Error: \n",
      " Accuracy: 85.9%, Avg loss: 0.389633 \n",
      "\n",
      "Epoch 2\n",
      "-------------------------------\n",
      "loss: 0.221511  [   64/60000]\n",
      "loss: 0.311758  [ 6464/60000]\n",
      "loss: 0.209710  [12864/60000]\n",
      "loss: 0.364977  [19264/60000]\n",
      "loss: 0.308115  [25664/60000]\n",
      "loss: 0.346503  [32064/60000]\n",
      "loss: 0.306525  [38464/60000]\n",
      "loss: 0.421079  [44864/60000]\n",
      "loss: 0.430594  [51264/60000]\n",
      "loss: 0.335855  [57664/60000]\n",
      "Test Error: \n",
      " Accuracy: 86.1%, Avg loss: 0.383205 \n",
      "\n",
      "Epoch 3\n",
      "-------------------------------\n",
      "loss: 0.213693  [   64/60000]\n",
      "loss: 0.306204  [ 6464/60000]\n",
      "loss: 0.202028  [12864/60000]\n",
      "loss: 0.355419  [19264/60000]\n",
      "loss: 0.307100  [25664/60000]\n",
      "loss: 0.345129  [32064/60000]\n",
      "loss: 0.306762  [38464/60000]\n",
      "loss: 0.426861  [44864/60000]\n",
      "loss: 0.424176  [51264/60000]\n",
      "loss: 0.328137  [57664/60000]\n",
      "Test Error: \n",
      " Accuracy: 86.3%, Avg loss: 0.379780 \n",
      "\n",
      "Epoch 4\n",
      "-------------------------------\n",
      "loss: 0.208891  [   64/60000]\n",
      "loss: 0.303350  [ 6464/60000]\n",
      "loss: 0.198720  [12864/60000]\n",
      "loss: 0.349581  [19264/60000]\n",
      "loss: 0.306983  [25664/60000]\n",
      "loss: 0.344598  [32064/60000]\n",
      "loss: 0.306401  [38464/60000]\n",
      "loss: 0.431504  [44864/60000]\n",
      "loss: 0.420518  [51264/60000]\n",
      "loss: 0.322980  [57664/60000]\n",
      "Test Error: \n",
      " Accuracy: 86.5%, Avg loss: 0.377550 \n",
      "\n",
      "Epoch 5\n",
      "-------------------------------\n",
      "loss: 0.205746  [   64/60000]\n",
      "loss: 0.301679  [ 6464/60000]\n",
      "loss: 0.196759  [12864/60000]\n",
      "loss: 0.346027  [19264/60000]\n",
      "loss: 0.306525  [25664/60000]\n",
      "loss: 0.344124  [32064/60000]\n",
      "loss: 0.305911  [38464/60000]\n",
      "loss: 0.435033  [44864/60000]\n",
      "loss: 0.418207  [51264/60000]\n",
      "loss: 0.319570  [57664/60000]\n",
      "Test Error: \n",
      " Accuracy: 86.5%, Avg loss: 0.375899 \n",
      "\n",
      "Done!\n"
     ]
    }
   ],
   "source": [
    "test_loss_sgd = run_training(epochs, train_dataloader, model, loss_fn, optimizer)"
   ]
  },
  {
   "cell_type": "code",
   "execution_count": 51,
   "id": "75d87ad7",
   "metadata": {},
   "outputs": [
    {
     "name": "stdout",
     "output_type": "stream",
     "text": [
      "[0.38963310667283974, 0.38320457574668204, 0.37977952429443407, 0.37754955802373824, 0.3758986291422206]\n"
     ]
    }
   ],
   "source": [
    "print(test_loss_sgd)"
   ]
  },
  {
   "cell_type": "code",
   "execution_count": 52,
   "id": "218a7c59",
   "metadata": {},
   "outputs": [
    {
     "name": "stdout",
     "output_type": "stream",
     "text": [
      "Epoch 1\n",
      "-------------------------------\n",
      "loss: 2.299017  [   64/60000]\n",
      "loss: 0.561404  [ 6464/60000]\n",
      "loss: 0.464267  [12864/60000]\n",
      "loss: 0.482081  [19264/60000]\n",
      "loss: 0.479731  [25664/60000]\n",
      "loss: 0.463993  [32064/60000]\n",
      "loss: 0.374960  [38464/60000]\n",
      "loss: 0.521036  [44864/60000]\n",
      "loss: 0.493906  [51264/60000]\n",
      "loss: 0.431683  [57664/60000]\n",
      "Test Error: \n",
      " Accuracy: 82.5%, Avg loss: 0.466934 \n",
      "\n",
      "Epoch 2\n",
      "-------------------------------\n",
      "loss: 0.275227  [   64/60000]\n",
      "loss: 0.337481  [ 6464/60000]\n",
      "loss: 0.290373  [12864/60000]\n",
      "loss: 0.337556  [19264/60000]\n",
      "loss: 0.343578  [25664/60000]\n",
      "loss: 0.383674  [32064/60000]\n",
      "loss: 0.286450  [38464/60000]\n",
      "loss: 0.419908  [44864/60000]\n",
      "loss: 0.446033  [51264/60000]\n",
      "loss: 0.404067  [57664/60000]\n",
      "Test Error: \n",
      " Accuracy: 85.2%, Avg loss: 0.415195 \n",
      "\n",
      "Epoch 3\n",
      "-------------------------------\n",
      "loss: 0.222330  [   64/60000]\n",
      "loss: 0.343819  [ 6464/60000]\n",
      "loss: 0.214913  [12864/60000]\n",
      "loss: 0.317007  [19264/60000]\n",
      "loss: 0.323751  [25664/60000]\n",
      "loss: 0.411305  [32064/60000]\n",
      "loss: 0.274865  [38464/60000]\n",
      "loss: 0.360458  [44864/60000]\n",
      "loss: 0.412000  [51264/60000]\n",
      "loss: 0.360187  [57664/60000]\n",
      "Test Error: \n",
      " Accuracy: 86.7%, Avg loss: 0.393610 \n",
      "\n",
      "Epoch 4\n",
      "-------------------------------\n",
      "loss: 0.183297  [   64/60000]\n",
      "loss: 0.310035  [ 6464/60000]\n",
      "loss: 0.213629  [12864/60000]\n",
      "loss: 0.289744  [19264/60000]\n",
      "loss: 0.300642  [25664/60000]\n",
      "loss: 0.365487  [32064/60000]\n",
      "loss: 0.247606  [38464/60000]\n",
      "loss: 0.371069  [44864/60000]\n",
      "loss: 0.408560  [51264/60000]\n",
      "loss: 0.414875  [57664/60000]\n",
      "Test Error: \n",
      " Accuracy: 86.3%, Avg loss: 0.419581 \n",
      "\n",
      "Epoch 5\n",
      "-------------------------------\n",
      "loss: 0.206697  [   64/60000]\n",
      "loss: 0.309844  [ 6464/60000]\n",
      "loss: 0.181346  [12864/60000]\n",
      "loss: 0.245696  [19264/60000]\n",
      "loss: 0.246571  [25664/60000]\n",
      "loss: 0.395189  [32064/60000]\n",
      "loss: 0.285695  [38464/60000]\n",
      "loss: 0.358966  [44864/60000]\n",
      "loss: 0.360789  [51264/60000]\n",
      "loss: 0.450768  [57664/60000]\n",
      "Test Error: \n",
      " Accuracy: 86.1%, Avg loss: 0.442023 \n",
      "\n",
      "Done!\n"
     ]
    }
   ],
   "source": [
    "model = NeuralNetwork()\n",
    "optimizer = torch.optim.RMSprop(model.parameters(), lr = learning_rate, alpha = 0.9)\n",
    "test_loss_rms = run_training(epochs, train_dataloader, model, loss_fn, optimizer)"
   ]
  },
  {
   "cell_type": "code",
   "execution_count": 53,
   "id": "b5c42b84",
   "metadata": {},
   "outputs": [
    {
     "data": {
      "text/plain": [
       "[0.4669338763709281,\n",
       " 0.4151948234837526,\n",
       " 0.3936103121110588,\n",
       " 0.4195809263712282,\n",
       " 0.44202277605321]"
      ]
     },
     "execution_count": 53,
     "metadata": {},
     "output_type": "execute_result"
    }
   ],
   "source": [
    "test_loss_rms"
   ]
  },
  {
   "cell_type": "code",
   "execution_count": null,
   "id": "4bd37f99",
   "metadata": {},
   "outputs": [],
   "source": [
    "# Постройте графики зависимости сходимости (значение функции потерь от количества итераций работы алгоритма)\n",
    "# от выбора оптимизационного метода\n",
    "# количество эпох = 50\n",
    "# Сравните, сделайте выводы\n",
    "# https://pytorch.org/docs/stable/optim.html"
   ]
  }
 ],
 "metadata": {
  "kernelspec": {
   "display_name": "Python 3 (ipykernel)",
   "language": "python",
   "name": "python3"
  },
  "language_info": {
   "codemirror_mode": {
    "name": "ipython",
    "version": 3
   },
   "file_extension": ".py",
   "mimetype": "text/x-python",
   "name": "python",
   "nbconvert_exporter": "python",
   "pygments_lexer": "ipython3",
   "version": "3.10.4"
  }
 },
 "nbformat": 4,
 "nbformat_minor": 5
}
