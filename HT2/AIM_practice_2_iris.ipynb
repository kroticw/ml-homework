{
 "cells": [
  {
   "cell_type": "code",
   "execution_count": 27,
   "id": "f8dea913",
   "metadata": {
    "ExecuteTime": {
     "end_time": "2024-11-14T12:07:00.387440Z",
     "start_time": "2024-11-14T12:07:00.380240Z"
    }
   },
   "outputs": [],
   "source": [
    "import pandas as pd\n",
    "import numpy as np\n",
    "from sklearn.neighbors import KNeighborsClassifier\n",
    "from sklearn.metrics import confusion_matrix, accuracy_score\n",
    "from sklearn.model_selection import train_test_split\n",
    "from sklearn.datasets import load_iris\n",
    "import seaborn as sb\n",
    "from sklearn.preprocessing import MaxAbsScaler\n",
    "\n",
    "from matplotlib import pyplot as plt\n"
   ]
  },
  {
   "cell_type": "code",
   "execution_count": 28,
   "id": "4a18e7e4",
   "metadata": {
    "ExecuteTime": {
     "end_time": "2024-11-14T12:07:00.412629Z",
     "start_time": "2024-11-14T12:07:00.399229Z"
    }
   },
   "outputs": [],
   "source": [
    "\n",
    "iris = load_iris()"
   ]
  },
  {
   "cell_type": "code",
   "execution_count": 29,
   "id": "f2cf5f97",
   "metadata": {
    "ExecuteTime": {
     "end_time": "2024-11-14T12:07:00.436119Z",
     "start_time": "2024-11-14T12:07:00.434008Z"
    }
   },
   "outputs": [],
   "source": [
    "target_names = iris.target_names"
   ]
  },
  {
   "cell_type": "code",
   "execution_count": 30,
   "id": "456514e7",
   "metadata": {
    "ExecuteTime": {
     "end_time": "2024-11-14T12:07:00.454464Z",
     "start_time": "2024-11-14T12:07:00.451601Z"
    }
   },
   "outputs": [
    {
     "data": {
      "text/plain": [
       "array(['setosa', 'versicolor', 'virginica'], dtype='<U10')"
      ]
     },
     "execution_count": 30,
     "metadata": {},
     "output_type": "execute_result"
    }
   ],
   "source": [
    "target_names"
   ]
  },
  {
   "cell_type": "code",
   "execution_count": 31,
   "id": "4c73d33e",
   "metadata": {
    "ExecuteTime": {
     "end_time": "2024-11-14T12:07:00.471365Z",
     "start_time": "2024-11-14T12:07:00.469097Z"
    }
   },
   "outputs": [],
   "source": [
    "df = pd.DataFrame(iris.data, columns = iris.feature_names)"
   ]
  },
  {
   "cell_type": "code",
   "execution_count": 32,
   "id": "9b9dcff5",
   "metadata": {
    "ExecuteTime": {
     "end_time": "2024-11-14T12:07:00.493297Z",
     "start_time": "2024-11-14T12:07:00.487176Z"
    }
   },
   "outputs": [
    {
     "data": {
      "text/html": [
       "<div>\n",
       "<style scoped>\n",
       "    .dataframe tbody tr th:only-of-type {\n",
       "        vertical-align: middle;\n",
       "    }\n",
       "\n",
       "    .dataframe tbody tr th {\n",
       "        vertical-align: top;\n",
       "    }\n",
       "\n",
       "    .dataframe thead th {\n",
       "        text-align: right;\n",
       "    }\n",
       "</style>\n",
       "<table border=\"1\" class=\"dataframe\">\n",
       "  <thead>\n",
       "    <tr style=\"text-align: right;\">\n",
       "      <th></th>\n",
       "      <th>sepal length (cm)</th>\n",
       "      <th>sepal width (cm)</th>\n",
       "      <th>petal length (cm)</th>\n",
       "      <th>petal width (cm)</th>\n",
       "    </tr>\n",
       "  </thead>\n",
       "  <tbody>\n",
       "    <tr>\n",
       "      <th>0</th>\n",
       "      <td>5.1</td>\n",
       "      <td>3.5</td>\n",
       "      <td>1.4</td>\n",
       "      <td>0.2</td>\n",
       "    </tr>\n",
       "    <tr>\n",
       "      <th>1</th>\n",
       "      <td>4.9</td>\n",
       "      <td>3.0</td>\n",
       "      <td>1.4</td>\n",
       "      <td>0.2</td>\n",
       "    </tr>\n",
       "    <tr>\n",
       "      <th>2</th>\n",
       "      <td>4.7</td>\n",
       "      <td>3.2</td>\n",
       "      <td>1.3</td>\n",
       "      <td>0.2</td>\n",
       "    </tr>\n",
       "    <tr>\n",
       "      <th>3</th>\n",
       "      <td>4.6</td>\n",
       "      <td>3.1</td>\n",
       "      <td>1.5</td>\n",
       "      <td>0.2</td>\n",
       "    </tr>\n",
       "    <tr>\n",
       "      <th>4</th>\n",
       "      <td>5.0</td>\n",
       "      <td>3.6</td>\n",
       "      <td>1.4</td>\n",
       "      <td>0.2</td>\n",
       "    </tr>\n",
       "    <tr>\n",
       "      <th>...</th>\n",
       "      <td>...</td>\n",
       "      <td>...</td>\n",
       "      <td>...</td>\n",
       "      <td>...</td>\n",
       "    </tr>\n",
       "    <tr>\n",
       "      <th>145</th>\n",
       "      <td>6.7</td>\n",
       "      <td>3.0</td>\n",
       "      <td>5.2</td>\n",
       "      <td>2.3</td>\n",
       "    </tr>\n",
       "    <tr>\n",
       "      <th>146</th>\n",
       "      <td>6.3</td>\n",
       "      <td>2.5</td>\n",
       "      <td>5.0</td>\n",
       "      <td>1.9</td>\n",
       "    </tr>\n",
       "    <tr>\n",
       "      <th>147</th>\n",
       "      <td>6.5</td>\n",
       "      <td>3.0</td>\n",
       "      <td>5.2</td>\n",
       "      <td>2.0</td>\n",
       "    </tr>\n",
       "    <tr>\n",
       "      <th>148</th>\n",
       "      <td>6.2</td>\n",
       "      <td>3.4</td>\n",
       "      <td>5.4</td>\n",
       "      <td>2.3</td>\n",
       "    </tr>\n",
       "    <tr>\n",
       "      <th>149</th>\n",
       "      <td>5.9</td>\n",
       "      <td>3.0</td>\n",
       "      <td>5.1</td>\n",
       "      <td>1.8</td>\n",
       "    </tr>\n",
       "  </tbody>\n",
       "</table>\n",
       "<p>150 rows × 4 columns</p>\n",
       "</div>"
      ],
      "text/plain": [
       "     sepal length (cm)  sepal width (cm)  petal length (cm)  petal width (cm)\n",
       "0                  5.1               3.5                1.4               0.2\n",
       "1                  4.9               3.0                1.4               0.2\n",
       "2                  4.7               3.2                1.3               0.2\n",
       "3                  4.6               3.1                1.5               0.2\n",
       "4                  5.0               3.6                1.4               0.2\n",
       "..                 ...               ...                ...               ...\n",
       "145                6.7               3.0                5.2               2.3\n",
       "146                6.3               2.5                5.0               1.9\n",
       "147                6.5               3.0                5.2               2.0\n",
       "148                6.2               3.4                5.4               2.3\n",
       "149                5.9               3.0                5.1               1.8\n",
       "\n",
       "[150 rows x 4 columns]"
      ]
     },
     "execution_count": 32,
     "metadata": {},
     "output_type": "execute_result"
    }
   ],
   "source": [
    "df"
   ]
  },
  {
   "cell_type": "code",
   "execution_count": 33,
   "id": "91464d5c",
   "metadata": {
    "ExecuteTime": {
     "end_time": "2024-11-14T12:07:00.541414Z",
     "start_time": "2024-11-14T12:07:00.532547Z"
    }
   },
   "outputs": [
    {
     "data": {
      "text/html": [
       "<div>\n",
       "<style scoped>\n",
       "    .dataframe tbody tr th:only-of-type {\n",
       "        vertical-align: middle;\n",
       "    }\n",
       "\n",
       "    .dataframe tbody tr th {\n",
       "        vertical-align: top;\n",
       "    }\n",
       "\n",
       "    .dataframe thead th {\n",
       "        text-align: right;\n",
       "    }\n",
       "</style>\n",
       "<table border=\"1\" class=\"dataframe\">\n",
       "  <thead>\n",
       "    <tr style=\"text-align: right;\">\n",
       "      <th></th>\n",
       "      <th>sepal length (cm)</th>\n",
       "      <th>sepal width (cm)</th>\n",
       "      <th>petal length (cm)</th>\n",
       "      <th>petal width (cm)</th>\n",
       "    </tr>\n",
       "  </thead>\n",
       "  <tbody>\n",
       "    <tr>\n",
       "      <th>count</th>\n",
       "      <td>150.000000</td>\n",
       "      <td>150.000000</td>\n",
       "      <td>150.000000</td>\n",
       "      <td>150.000000</td>\n",
       "    </tr>\n",
       "    <tr>\n",
       "      <th>mean</th>\n",
       "      <td>5.843333</td>\n",
       "      <td>3.057333</td>\n",
       "      <td>3.758000</td>\n",
       "      <td>1.199333</td>\n",
       "    </tr>\n",
       "    <tr>\n",
       "      <th>std</th>\n",
       "      <td>0.828066</td>\n",
       "      <td>0.435866</td>\n",
       "      <td>1.765298</td>\n",
       "      <td>0.762238</td>\n",
       "    </tr>\n",
       "    <tr>\n",
       "      <th>min</th>\n",
       "      <td>4.300000</td>\n",
       "      <td>2.000000</td>\n",
       "      <td>1.000000</td>\n",
       "      <td>0.100000</td>\n",
       "    </tr>\n",
       "    <tr>\n",
       "      <th>25%</th>\n",
       "      <td>5.100000</td>\n",
       "      <td>2.800000</td>\n",
       "      <td>1.600000</td>\n",
       "      <td>0.300000</td>\n",
       "    </tr>\n",
       "    <tr>\n",
       "      <th>50%</th>\n",
       "      <td>5.800000</td>\n",
       "      <td>3.000000</td>\n",
       "      <td>4.350000</td>\n",
       "      <td>1.300000</td>\n",
       "    </tr>\n",
       "    <tr>\n",
       "      <th>75%</th>\n",
       "      <td>6.400000</td>\n",
       "      <td>3.300000</td>\n",
       "      <td>5.100000</td>\n",
       "      <td>1.800000</td>\n",
       "    </tr>\n",
       "    <tr>\n",
       "      <th>max</th>\n",
       "      <td>7.900000</td>\n",
       "      <td>4.400000</td>\n",
       "      <td>6.900000</td>\n",
       "      <td>2.500000</td>\n",
       "    </tr>\n",
       "  </tbody>\n",
       "</table>\n",
       "</div>"
      ],
      "text/plain": [
       "       sepal length (cm)  sepal width (cm)  petal length (cm)  \\\n",
       "count         150.000000        150.000000         150.000000   \n",
       "mean            5.843333          3.057333           3.758000   \n",
       "std             0.828066          0.435866           1.765298   \n",
       "min             4.300000          2.000000           1.000000   \n",
       "25%             5.100000          2.800000           1.600000   \n",
       "50%             5.800000          3.000000           4.350000   \n",
       "75%             6.400000          3.300000           5.100000   \n",
       "max             7.900000          4.400000           6.900000   \n",
       "\n",
       "       petal width (cm)  \n",
       "count        150.000000  \n",
       "mean           1.199333  \n",
       "std            0.762238  \n",
       "min            0.100000  \n",
       "25%            0.300000  \n",
       "50%            1.300000  \n",
       "75%            1.800000  \n",
       "max            2.500000  "
      ]
     },
     "execution_count": 33,
     "metadata": {},
     "output_type": "execute_result"
    }
   ],
   "source": [
    "df.describe()"
   ]
  },
  {
   "cell_type": "code",
   "execution_count": 34,
   "id": "32ebb635",
   "metadata": {
    "ExecuteTime": {
     "end_time": "2024-11-14T12:07:00.595835Z",
     "start_time": "2024-11-14T12:07:00.592779Z"
    }
   },
   "outputs": [
    {
     "data": {
      "text/plain": [
       "np.False_"
      ]
     },
     "execution_count": 34,
     "metadata": {},
     "output_type": "execute_result"
    }
   ],
   "source": [
    "df.isnull().values.any()"
   ]
  },
  {
   "cell_type": "code",
   "execution_count": 35,
   "id": "eb9d6791",
   "metadata": {
    "ExecuteTime": {
     "end_time": "2024-11-14T12:07:00.784954Z",
     "start_time": "2024-11-14T12:07:00.649900Z"
    },
    "scrolled": true
   },
   "outputs": [
    {
     "data": {
      "text/plain": [
       "<Axes: >"
      ]
     },
     "execution_count": 35,
     "metadata": {},
     "output_type": "execute_result"
    },
    {
     "data": {
      "image/png": "[encoded data removed]",
      "text/plain": [
       "<Figure size 640x480 with 2 Axes>"
      ]
     },
     "metadata": {},
     "output_type": "display_data"
    }
   ],
   "source": [
    "sb.heatmap(df.corr(), cmap=\"Blues\", annot=True)"
   ]
  },
  {
   "cell_type": "code",
   "execution_count": 36,
   "id": "32afddc3",
   "metadata": {
    "ExecuteTime": {
     "end_time": "2024-11-14T12:07:00.803765Z",
     "start_time": "2024-11-14T12:07:00.798450Z"
    }
   },
   "outputs": [
    {
     "data": {
      "text/html": [
       "<div>\n",
       "<style scoped>\n",
       "    .dataframe tbody tr th:only-of-type {\n",
       "        vertical-align: middle;\n",
       "    }\n",
       "\n",
       "    .dataframe tbody tr th {\n",
       "        vertical-align: top;\n",
       "    }\n",
       "\n",
       "    .dataframe thead th {\n",
       "        text-align: right;\n",
       "    }\n",
       "</style>\n",
       "<table border=\"1\" class=\"dataframe\">\n",
       "  <thead>\n",
       "    <tr style=\"text-align: right;\">\n",
       "      <th></th>\n",
       "      <th>sepal length (cm)</th>\n",
       "      <th>sepal width (cm)</th>\n",
       "      <th>petal length (cm)</th>\n",
       "      <th>petal width (cm)</th>\n",
       "    </tr>\n",
       "  </thead>\n",
       "  <tbody>\n",
       "    <tr>\n",
       "      <th>sepal length (cm)</th>\n",
       "      <td>1.000000</td>\n",
       "      <td>-0.117570</td>\n",
       "      <td>0.871754</td>\n",
       "      <td>0.817941</td>\n",
       "    </tr>\n",
       "    <tr>\n",
       "      <th>sepal width (cm)</th>\n",
       "      <td>-0.117570</td>\n",
       "      <td>1.000000</td>\n",
       "      <td>-0.428440</td>\n",
       "      <td>-0.366126</td>\n",
       "    </tr>\n",
       "    <tr>\n",
       "      <th>petal length (cm)</th>\n",
       "      <td>0.871754</td>\n",
       "      <td>-0.428440</td>\n",
       "      <td>1.000000</td>\n",
       "      <td>0.962865</td>\n",
       "    </tr>\n",
       "    <tr>\n",
       "      <th>petal width (cm)</th>\n",
       "      <td>0.817941</td>\n",
       "      <td>-0.366126</td>\n",
       "      <td>0.962865</td>\n",
       "      <td>1.000000</td>\n",
       "    </tr>\n",
       "  </tbody>\n",
       "</table>\n",
       "</div>"
      ],
      "text/plain": [
       "                   sepal length (cm)  sepal width (cm)  petal length (cm)  \\\n",
       "sepal length (cm)           1.000000         -0.117570           0.871754   \n",
       "sepal width (cm)           -0.117570          1.000000          -0.428440   \n",
       "petal length (cm)           0.871754         -0.428440           1.000000   \n",
       "petal width (cm)            0.817941         -0.366126           0.962865   \n",
       "\n",
       "                   petal width (cm)  \n",
       "sepal length (cm)          0.817941  \n",
       "sepal width (cm)          -0.366126  \n",
       "petal length (cm)          0.962865  \n",
       "petal width (cm)           1.000000  "
      ]
     },
     "execution_count": 36,
     "metadata": {},
     "output_type": "execute_result"
    }
   ],
   "source": [
    "df.corr()"
   ]
  },
  {
   "cell_type": "code",
   "execution_count": 37,
   "id": "c8eb7931",
   "metadata": {},
   "outputs": [],
   "source": [
    "iris_data = iris.data[:, :2]"
   ]
  },
  {
   "cell_type": "code",
   "execution_count": 38,
   "id": "94ab0e7e",
   "metadata": {
    "ExecuteTime": {
     "end_time": "2024-11-14T12:07:00.858262Z",
     "start_time": "2024-11-14T12:07:00.854172Z"
    }
   },
   "outputs": [
    {
     "data": {
      "text/plain": [
       "array([[5.1, 3.5],\n",
       "       [4.9, 3. ],\n",
       "       [4.7, 3.2],\n",
       "       [4.6, 3.1],\n",
       "       [5. , 3.6],\n",
       "       [5.4, 3.9],\n",
       "       [4.6, 3.4],\n",
       "       [5. , 3.4],\n",
       "       [4.4, 2.9],\n",
       "       [4.9, 3.1],\n",
       "       [5.4, 3.7],\n",
       "       [4.8, 3.4],\n",
       "       [4.8, 3. ],\n",
       "       [4.3, 3. ],\n",
       "       [5.8, 4. ],\n",
       "       [5.7, 4.4],\n",
       "       [5.4, 3.9],\n",
       "       [5.1, 3.5],\n",
       "       [5.7, 3.8],\n",
       "       [5.1, 3.8],\n",
       "       [5.4, 3.4],\n",
       "       [5.1, 3.7],\n",
       "       [4.6, 3.6],\n",
       "       [5.1, 3.3],\n",
       "       [4.8, 3.4],\n",
       "       [5. , 3. ],\n",
       "       [5. , 3.4],\n",
       "       [5.2, 3.5],\n",
       "       [5.2, 3.4],\n",
       "       [4.7, 3.2],\n",
       "       [4.8, 3.1],\n",
       "       [5.4, 3.4],\n",
       "       [5.2, 4.1],\n",
       "       [5.5, 4.2],\n",
       "       [4.9, 3.1],\n",
       "       [5. , 3.2],\n",
       "       [5.5, 3.5],\n",
       "       [4.9, 3.6],\n",
       "       [4.4, 3. ],\n",
       "       [5.1, 3.4],\n",
       "       [5. , 3.5],\n",
       "       [4.5, 2.3],\n",
       "       [4.4, 3.2],\n",
       "       [5. , 3.5],\n",
       "       [5.1, 3.8],\n",
       "       [4.8, 3. ],\n",
       "       [5.1, 3.8],\n",
       "       [4.6, 3.2],\n",
       "       [5.3, 3.7],\n",
       "       [5. , 3.3],\n",
       "       [7. , 3.2],\n",
       "       [6.4, 3.2],\n",
       "       [6.9, 3.1],\n",
       "       [5.5, 2.3],\n",
       "       [6.5, 2.8],\n",
       "       [5.7, 2.8],\n",
       "       [6.3, 3.3],\n",
       "       [4.9, 2.4],\n",
       "       [6.6, 2.9],\n",
       "       [5.2, 2.7],\n",
       "       [5. , 2. ],\n",
       "       [5.9, 3. ],\n",
       "       [6. , 2.2],\n",
       "       [6.1, 2.9],\n",
       "       [5.6, 2.9],\n",
       "       [6.7, 3.1],\n",
       "       [5.6, 3. ],\n",
       "       [5.8, 2.7],\n",
       "       [6.2, 2.2],\n",
       "       [5.6, 2.5],\n",
       "       [5.9, 3.2],\n",
       "       [6.1, 2.8],\n",
       "       [6.3, 2.5],\n",
       "       [6.1, 2.8],\n",
       "       [6.4, 2.9],\n",
       "       [6.6, 3. ],\n",
       "       [6.8, 2.8],\n",
       "       [6.7, 3. ],\n",
       "       [6. , 2.9],\n",
       "       [5.7, 2.6],\n",
       "       [5.5, 2.4],\n",
       "       [5.5, 2.4],\n",
       "       [5.8, 2.7],\n",
       "       [6. , 2.7],\n",
       "       [5.4, 3. ],\n",
       "       [6. , 3.4],\n",
       "       [6.7, 3.1],\n",
       "       [6.3, 2.3],\n",
       "       [5.6, 3. ],\n",
       "       [5.5, 2.5],\n",
       "       [5.5, 2.6],\n",
       "       [6.1, 3. ],\n",
       "       [5.8, 2.6],\n",
       "       [5. , 2.3],\n",
       "       [5.6, 2.7],\n",
       "       [5.7, 3. ],\n",
       "       [5.7, 2.9],\n",
       "       [6.2, 2.9],\n",
       "       [5.1, 2.5],\n",
       "       [5.7, 2.8],\n",
       "       [6.3, 3.3],\n",
       "       [5.8, 2.7],\n",
       "       [7.1, 3. ],\n",
       "       [6.3, 2.9],\n",
       "       [6.5, 3. ],\n",
       "       [7.6, 3. ],\n",
       "       [4.9, 2.5],\n",
       "       [7.3, 2.9],\n",
       "       [6.7, 2.5],\n",
       "       [7.2, 3.6],\n",
       "       [6.5, 3.2],\n",
       "       [6.4, 2.7],\n",
       "       [6.8, 3. ],\n",
       "       [5.7, 2.5],\n",
       "       [5.8, 2.8],\n",
       "       [6.4, 3.2],\n",
       "       [6.5, 3. ],\n",
       "       [7.7, 3.8],\n",
       "       [7.7, 2.6],\n",
       "       [6. , 2.2],\n",
       "       [6.9, 3.2],\n",
       "       [5.6, 2.8],\n",
       "       [7.7, 2.8],\n",
       "       [6.3, 2.7],\n",
       "       [6.7, 3.3],\n",
       "       [7.2, 3.2],\n",
       "       [6.2, 2.8],\n",
       "       [6.1, 3. ],\n",
       "       [6.4, 2.8],\n",
       "       [7.2, 3. ],\n",
       "       [7.4, 2.8],\n",
       "       [7.9, 3.8],\n",
       "       [6.4, 2.8],\n",
       "       [6.3, 2.8],\n",
       "       [6.1, 2.6],\n",
       "       [7.7, 3. ],\n",
       "       [6.3, 3.4],\n",
       "       [6.4, 3.1],\n",
       "       [6. , 3. ],\n",
       "       [6.9, 3.1],\n",
       "       [6.7, 3.1],\n",
       "       [6.9, 3.1],\n",
       "       [5.8, 2.7],\n",
       "       [6.8, 3.2],\n",
       "       [6.7, 3.3],\n",
       "       [6.7, 3. ],\n",
       "       [6.3, 2.5],\n",
       "       [6.5, 3. ],\n",
       "       [6.2, 3.4],\n",
       "       [5.9, 3. ]])"
      ]
     },
     "execution_count": 38,
     "metadata": {},
     "output_type": "execute_result"
    }
   ],
   "source": [
    "iris_data"
   ]
  },
  {
   "cell_type": "code",
   "execution_count": 39,
   "id": "f10d3cf4",
   "metadata": {
    "ExecuteTime": {
     "end_time": "2024-11-14T12:07:00.920963Z",
     "start_time": "2024-11-14T12:07:00.918191Z"
    }
   },
   "outputs": [
    {
     "data": {
      "text/plain": [
       "array([0, 0, 0, 0, 0, 0, 0, 0, 0, 0, 0, 0, 0, 0, 0, 0, 0, 0, 0, 0, 0, 0,\n",
       "       0, 0, 0, 0, 0, 0, 0, 0, 0, 0, 0, 0, 0, 0, 0, 0, 0, 0, 0, 0, 0, 0,\n",
       "       0, 0, 0, 0, 0, 0, 1, 1, 1, 1, 1, 1, 1, 1, 1, 1, 1, 1, 1, 1, 1, 1,\n",
       "       1, 1, 1, 1, 1, 1, 1, 1, 1, 1, 1, 1, 1, 1, 1, 1, 1, 1, 1, 1, 1, 1,\n",
       "       1, 1, 1, 1, 1, 1, 1, 1, 1, 1, 1, 1, 2, 2, 2, 2, 2, 2, 2, 2, 2, 2,\n",
       "       2, 2, 2, 2, 2, 2, 2, 2, 2, 2, 2, 2, 2, 2, 2, 2, 2, 2, 2, 2, 2, 2,\n",
       "       2, 2, 2, 2, 2, 2, 2, 2, 2, 2, 2, 2, 2, 2, 2, 2, 2, 2])"
      ]
     },
     "execution_count": 39,
     "metadata": {},
     "output_type": "execute_result"
    }
   ],
   "source": [
    "iris.target"
   ]
  },
  {
   "cell_type": "code",
   "execution_count": 40,
   "id": "0af4efae",
   "metadata": {
    "ExecuteTime": {
     "end_time": "2024-11-14T12:07:00.974504Z",
     "start_time": "2024-11-14T12:07:00.971862Z"
    }
   },
   "outputs": [
    {
     "data": {
      "text/plain": [
       "150"
      ]
     },
     "execution_count": 40,
     "metadata": {},
     "output_type": "execute_result"
    }
   ],
   "source": [
    "len(iris.data)"
   ]
  },
  {
   "cell_type": "code",
   "execution_count": 41,
   "id": "b66e2a1b",
   "metadata": {
    "ExecuteTime": {
     "end_time": "2024-11-14T12:07:01.009517Z",
     "start_time": "2024-11-14T12:07:01.005890Z"
    }
   },
   "outputs": [],
   "source": [
    "X_train, X_test, y_train, y_test = train_test_split(iris_data, iris.target, test_size = 0.5, random_state = 0)"
   ]
  },
  {
   "cell_type": "code",
   "execution_count": 42,
   "id": "b2c7e614",
   "metadata": {
    "ExecuteTime": {
     "end_time": "2024-11-14T12:07:01.025859Z",
     "start_time": "2024-11-14T12:07:01.023521Z"
    }
   },
   "outputs": [],
   "source": [
    "#Scale each feature by its maximum absolute value.\n",
    "data_transformer = MaxAbsScaler().fit(X_train)\n",
    "X_train = data_transformer.transform(X_train)"
   ]
  },
  {
   "cell_type": "code",
   "execution_count": 43,
   "id": "25e0c684",
   "metadata": {
    "ExecuteTime": {
     "end_time": "2024-11-14T12:07:01.051850Z",
     "start_time": "2024-11-14T12:07:01.047881Z"
    }
   },
   "outputs": [
    {
     "data": {
      "text/plain": [
       "array([[0.58227848, 0.75609756],\n",
       "       [0.74683544, 0.73170732],\n",
       "       [0.64556962, 0.6097561 ],\n",
       "       [0.58227848, 0.82926829],\n",
       "       [0.78481013, 0.53658537],\n",
       "       [0.91139241, 0.87804878],\n",
       "       [0.72151899, 0.70731707],\n",
       "       [0.60759494, 0.73170732],\n",
       "       [0.89873418, 0.73170732],\n",
       "       [0.87341772, 0.7804878 ],\n",
       "       [0.82278481, 0.73170732],\n",
       "       [0.81012658, 0.68292683],\n",
       "       [0.64556962, 0.92682927],\n",
       "       [0.60759494, 0.82926829],\n",
       "       [0.82278481, 0.7804878 ],\n",
       "       [0.84810127, 0.80487805],\n",
       "       [0.56962025, 0.56097561],\n",
       "       [0.78481013, 0.82926829],\n",
       "       [0.62025316, 0.73170732],\n",
       "       [0.72151899, 0.6097561 ],\n",
       "       [0.87341772, 0.75609756],\n",
       "       [0.55696203, 0.7804878 ],\n",
       "       [0.63291139, 0.87804878],\n",
       "       [0.91139241, 0.73170732],\n",
       "       [0.64556962, 0.85365854],\n",
       "       [0.55696203, 0.73170732],\n",
       "       [0.6835443 , 0.95121951],\n",
       "       [0.69620253, 0.56097561],\n",
       "       [0.86075949, 0.7804878 ],\n",
       "       [0.96202532, 0.73170732],\n",
       "       [0.64556962, 0.85365854],\n",
       "       [0.62025316, 0.75609756],\n",
       "       [0.65822785, 0.82926829],\n",
       "       [0.72151899, 0.68292683],\n",
       "       [0.83544304, 0.73170732],\n",
       "       [0.63291139, 0.7804878 ],\n",
       "       [0.64556962, 0.80487805],\n",
       "       [0.81012658, 0.70731707],\n",
       "       [0.6835443 , 0.82926829],\n",
       "       [0.97468354, 0.63414634],\n",
       "       [0.62025316, 0.58536585],\n",
       "       [1.        , 0.92682927],\n",
       "       [0.84810127, 0.75609756],\n",
       "       [0.65822785, 1.        ],\n",
       "       [0.75949367, 0.73170732],\n",
       "       [0.73417722, 0.97560976],\n",
       "       [0.97468354, 0.68292683],\n",
       "       [0.64556962, 0.92682927],\n",
       "       [0.59493671, 0.7804878 ],\n",
       "       [0.93670886, 0.68292683],\n",
       "       [0.63291139, 0.80487805],\n",
       "       [0.79746835, 0.82926829],\n",
       "       [0.72151899, 0.68292683],\n",
       "       [0.73417722, 0.65853659],\n",
       "       [0.72151899, 0.63414634],\n",
       "       [0.81012658, 0.7804878 ],\n",
       "       [0.84810127, 0.73170732],\n",
       "       [0.79746835, 0.6097561 ],\n",
       "       [0.84810127, 0.73170732],\n",
       "       [0.63291139, 0.73170732],\n",
       "       [0.69620253, 0.58536585],\n",
       "       [0.84810127, 0.75609756],\n",
       "       [0.73417722, 0.65853659],\n",
       "       [0.64556962, 0.82926829],\n",
       "       [0.83544304, 0.70731707],\n",
       "       [0.70886076, 0.73170732],\n",
       "       [0.74683544, 0.7804878 ],\n",
       "       [0.79746835, 0.56097561],\n",
       "       [0.69620253, 0.85365854],\n",
       "       [0.64556962, 0.90243902],\n",
       "       [0.62025316, 0.75609756],\n",
       "       [0.79746835, 0.70731707],\n",
       "       [0.73417722, 0.65853659],\n",
       "       [0.97468354, 0.92682927],\n",
       "       [0.58227848, 0.7804878 ]])"
      ]
     },
     "execution_count": 43,
     "metadata": {},
     "output_type": "execute_result"
    }
   ],
   "source": [
    "X_train"
   ]
  },
  {
   "cell_type": "code",
   "execution_count": 44,
   "id": "c9b9328a",
   "metadata": {
    "ExecuteTime": {
     "end_time": "2024-11-14T12:07:01.093587Z",
     "start_time": "2024-11-14T12:07:01.090023Z"
    }
   },
   "outputs": [
    {
     "data": {
      "text/plain": [
       "array([[0.73417722, 0.68292683],\n",
       "       [0.75949367, 0.53658537],\n",
       "       [0.69620253, 1.02439024],\n",
       "       [0.92405063, 0.70731707],\n",
       "       [0.63291139, 0.82926829],\n",
       "       [0.79746835, 0.80487805],\n",
       "       [0.63291139, 0.85365854],\n",
       "       [0.84810127, 0.75609756],\n",
       "       [0.86075949, 0.68292683],\n",
       "       [0.7721519 , 0.68292683],\n",
       "       [0.7721519 , 0.63414634],\n",
       "       [0.81012658, 0.7804878 ],\n",
       "       [0.7721519 , 0.68292683],\n",
       "       [0.82278481, 0.68292683],\n",
       "       [0.7721519 , 0.70731707],\n",
       "       [0.62025316, 0.87804878],\n",
       "       [0.75949367, 0.70731707],\n",
       "       [0.69620253, 0.63414634],\n",
       "       [0.60759494, 0.73170732],\n",
       "       [0.6835443 , 0.95121951],\n",
       "       [0.70886076, 0.68292683],\n",
       "       [0.70886076, 0.73170732],\n",
       "       [0.60759494, 0.82926829],\n",
       "       [0.55696203, 0.70731707],\n",
       "       [0.78481013, 0.68292683],\n",
       "       [0.58227848, 0.87804878],\n",
       "       [0.64556962, 0.92682927],\n",
       "       [0.78481013, 0.70731707],\n",
       "       [0.63291139, 0.56097561],\n",
       "       [0.63291139, 0.82926829],\n",
       "       [0.81012658, 0.75609756],\n",
       "       [0.6835443 , 0.73170732],\n",
       "       [0.65822785, 0.85365854],\n",
       "       [0.7721519 , 0.73170732],\n",
       "       [0.81012658, 0.68292683],\n",
       "       [0.65822785, 0.65853659],\n",
       "       [0.72151899, 0.92682927],\n",
       "       [0.75949367, 0.65853659],\n",
       "       [0.74683544, 0.73170732],\n",
       "       [0.73417722, 0.63414634],\n",
       "       [0.86075949, 0.73170732],\n",
       "       [0.59493671, 0.7804878 ],\n",
       "       [0.87341772, 0.75609756],\n",
       "       [0.63291139, 0.85365854],\n",
       "       [0.6835443 , 0.90243902],\n",
       "       [0.63291139, 0.48780488],\n",
       "       [0.82278481, 0.73170732],\n",
       "       [0.84810127, 0.80487805],\n",
       "       [0.75949367, 0.53658537],\n",
       "       [0.84810127, 0.6097561 ],\n",
       "       [0.70886076, 0.6097561 ],\n",
       "       [0.97468354, 0.73170732],\n",
       "       [0.79746835, 0.80487805],\n",
       "       [0.69620253, 0.58536585],\n",
       "       [0.79746835, 0.65853659],\n",
       "       [0.79746835, 0.68292683],\n",
       "       [0.62025316, 0.6097561 ],\n",
       "       [0.79746835, 0.6097561 ],\n",
       "       [0.88607595, 0.7804878 ],\n",
       "       [0.82278481, 0.73170732],\n",
       "       [0.75949367, 0.82926829],\n",
       "       [0.60759494, 0.75609756],\n",
       "       [0.73417722, 0.65853659],\n",
       "       [0.70886076, 0.65853659],\n",
       "       [0.70886076, 0.70731707],\n",
       "       [0.69620253, 0.6097561 ],\n",
       "       [0.7721519 , 0.73170732],\n",
       "       [0.91139241, 0.7804878 ],\n",
       "       [0.67088608, 0.90243902],\n",
       "       [0.5443038 , 0.73170732],\n",
       "       [0.81012658, 0.65853659],\n",
       "       [0.72151899, 0.73170732],\n",
       "       [0.6835443 , 0.82926829],\n",
       "       [0.72151899, 1.07317073],\n",
       "       [0.87341772, 0.75609756]])"
      ]
     },
     "execution_count": 44,
     "metadata": {},
     "output_type": "execute_result"
    }
   ],
   "source": [
    "X_test=data_transformer.transform(X_test)\n",
    "X_test"
   ]
  },
  {
   "cell_type": "code",
   "execution_count": 45,
   "id": "05170544",
   "metadata": {
    "ExecuteTime": {
     "end_time": "2024-11-14T12:07:01.219250Z",
     "start_time": "2024-11-14T12:07:01.214278Z"
    }
   },
   "outputs": [],
   "source": [
    "classifier = KNeighborsClassifier(n_neighbors=1)\n",
    "\n",
    "classifier.fit(X_train, y_train)\n",
    "y_pred = classifier.predict(X_test)"
   ]
  },
  {
   "cell_type": "code",
   "execution_count": 46,
   "id": "8175eaf3",
   "metadata": {
    "ExecuteTime": {
     "end_time": "2024-11-14T12:07:01.252561Z",
     "start_time": "2024-11-14T12:07:01.249498Z"
    }
   },
   "outputs": [
    {
     "data": {
      "text/plain": [
       "array([1, 1, 0, 2, 0, 2, 0, 1, 1, 2, 1, 2, 2, 2, 2, 0, 2, 1, 0, 0, 1, 1,\n",
       "       0, 0, 2, 0, 0, 2, 1, 0, 2, 1, 0, 2, 2, 1, 0, 1, 2, 1, 1, 0, 2, 0,\n",
       "       0, 0, 2, 2, 1, 1, 2, 2, 2, 1, 2, 2, 1, 1, 2, 2, 2, 0, 1, 1, 1, 1,\n",
       "       2, 2, 0, 0, 2, 1, 0, 0, 2])"
      ]
     },
     "execution_count": 46,
     "metadata": {},
     "output_type": "execute_result"
    }
   ],
   "source": [
    "y_pred"
   ]
  },
  {
   "cell_type": "code",
   "execution_count": 47,
   "id": "e2ece427",
   "metadata": {
    "ExecuteTime": {
     "end_time": "2024-11-14T12:07:01.274902Z",
     "start_time": "2024-11-14T12:07:01.271281Z"
    }
   },
   "outputs": [
    {
     "data": {
      "text/plain": [
       "array([[21,  0,  0],\n",
       "       [ 1, 15, 14],\n",
       "       [ 0,  9, 15]])"
      ]
     },
     "execution_count": 47,
     "metadata": {},
     "output_type": "execute_result"
    }
   ],
   "source": [
    "confusion_matrix(y_test, y_pred)"
   ]
  },
  {
   "cell_type": "code",
   "execution_count": 48,
   "id": "9895c2d4",
   "metadata": {
    "ExecuteTime": {
     "end_time": "2024-11-14T12:07:01.316277Z",
     "start_time": "2024-11-14T12:07:01.313295Z"
    }
   },
   "outputs": [
    {
     "data": {
      "text/plain": [
       "0.68"
      ]
     },
     "execution_count": 48,
     "metadata": {},
     "output_type": "execute_result"
    }
   ],
   "source": [
    "accuracy = accuracy_score(y_test, y_pred)\n",
    "accuracy"
   ]
  },
  {
   "cell_type": "code",
   "execution_count": 49,
   "id": "24ecb903",
   "metadata": {
    "ExecuteTime": {
     "end_time": "2024-11-14T12:07:01.351008Z",
     "start_time": "2024-11-14T12:07:01.347387Z"
    }
   },
   "outputs": [
    {
     "name": "stdout",
     "output_type": "stream",
     "text": [
      "[[0. 1. 0.]\n",
      " [0. 1. 0.]\n",
      " [1. 0. 0.]\n",
      " [0. 0. 1.]\n",
      " [1. 0. 0.]\n",
      " [0. 0. 1.]\n",
      " [1. 0. 0.]\n",
      " [0. 1. 0.]\n",
      " [0. 1. 0.]\n",
      " [0. 0. 1.]\n",
      " [0. 1. 0.]\n",
      " [0. 0. 1.]\n",
      " [0. 0. 1.]\n",
      " [0. 0. 1.]\n",
      " [0. 0. 1.]\n",
      " [1. 0. 0.]\n",
      " [0. 0. 1.]\n",
      " [0. 1. 0.]\n",
      " [1. 0. 0.]\n",
      " [1. 0. 0.]\n",
      " [0. 1. 0.]\n",
      " [0. 1. 0.]\n",
      " [1. 0. 0.]\n",
      " [1. 0. 0.]\n",
      " [0. 0. 1.]\n",
      " [1. 0. 0.]\n",
      " [1. 0. 0.]\n",
      " [0. 0. 1.]\n",
      " [0. 1. 0.]\n",
      " [1. 0. 0.]\n",
      " [0. 0. 1.]\n",
      " [0. 1. 0.]\n",
      " [1. 0. 0.]\n",
      " [0. 0. 1.]\n",
      " [0. 0. 1.]\n",
      " [0. 1. 0.]\n",
      " [1. 0. 0.]\n",
      " [0. 1. 0.]\n",
      " [0. 0. 1.]\n",
      " [0. 1. 0.]\n",
      " [0. 1. 0.]\n",
      " [1. 0. 0.]\n",
      " [0. 0. 1.]\n",
      " [1. 0. 0.]\n",
      " [1. 0. 0.]\n",
      " [1. 0. 0.]\n",
      " [0. 0. 1.]\n",
      " [0. 0. 1.]\n",
      " [0. 1. 0.]\n",
      " [0. 1. 0.]\n",
      " [0. 0. 1.]\n",
      " [0. 0. 1.]\n",
      " [0. 0. 1.]\n",
      " [0. 1. 0.]\n",
      " [0. 0. 1.]\n",
      " [0. 0. 1.]\n",
      " [0. 1. 0.]\n",
      " [0. 1. 0.]\n",
      " [0. 0. 1.]\n",
      " [0. 0. 1.]\n",
      " [0. 0. 1.]\n",
      " [1. 0. 0.]\n",
      " [0. 1. 0.]\n",
      " [0. 1. 0.]\n",
      " [0. 1. 0.]\n",
      " [0. 1. 0.]\n",
      " [0. 0. 1.]\n",
      " [0. 0. 1.]\n",
      " [1. 0. 0.]\n",
      " [1. 0. 0.]\n",
      " [0. 0. 1.]\n",
      " [0. 1. 0.]\n",
      " [1. 0. 0.]\n",
      " [1. 0. 0.]\n",
      " [0. 0. 1.]]\n"
     ]
    }
   ],
   "source": [
    "# вероятность отнесения к классу\n",
    "print(classifier.predict_proba(X_test))"
   ]
  },
  {
   "cell_type": "code",
   "execution_count": 50,
   "id": "935b9094",
   "metadata": {
    "ExecuteTime": {
     "end_time": "2024-11-14T12:07:01.371508Z",
     "start_time": "2024-11-14T12:07:01.369645Z"
    }
   },
   "outputs": [],
   "source": [
    "# Задача 1.\n",
    "# Исследовать качество работы классификаторы в зависимости от выбранного метода преобразования данных\n",
    "# Изучить методы преобразования данных: from sklearn.preprocessing https://scikit-learn.org/stable/modules/preprocessing.html\n",
    "# Критерий качества - accuracy\n",
    "# Сформировать таблицу для сравнения"
   ]
  },
  {
   "cell_type": "code",
   "execution_count": 51,
   "id": "a52065812f28327",
   "metadata": {
    "ExecuteTime": {
     "end_time": "2024-11-14T12:07:01.400203Z",
     "start_time": "2024-11-14T12:07:01.394055Z"
    }
   },
   "outputs": [
    {
     "data": {
      "text/html": [
       "<div>\n",
       "<style scoped>\n",
       "    .dataframe tbody tr th:only-of-type {\n",
       "        vertical-align: middle;\n",
       "    }\n",
       "\n",
       "    .dataframe tbody tr th {\n",
       "        vertical-align: top;\n",
       "    }\n",
       "\n",
       "    .dataframe thead th {\n",
       "        text-align: right;\n",
       "    }\n",
       "</style>\n",
       "<table border=\"1\" class=\"dataframe\">\n",
       "  <thead>\n",
       "    <tr style=\"text-align: right;\">\n",
       "      <th></th>\n",
       "      <th>sepal length (cm)</th>\n",
       "      <th>sepal width (cm)</th>\n",
       "      <th>petal length (cm)</th>\n",
       "      <th>petal width (cm)</th>\n",
       "    </tr>\n",
       "  </thead>\n",
       "  <tbody>\n",
       "    <tr>\n",
       "      <th>0</th>\n",
       "      <td>5.1</td>\n",
       "      <td>3.5</td>\n",
       "      <td>1.4</td>\n",
       "      <td>0.2</td>\n",
       "    </tr>\n",
       "    <tr>\n",
       "      <th>1</th>\n",
       "      <td>4.9</td>\n",
       "      <td>3.0</td>\n",
       "      <td>1.4</td>\n",
       "      <td>0.2</td>\n",
       "    </tr>\n",
       "    <tr>\n",
       "      <th>2</th>\n",
       "      <td>4.7</td>\n",
       "      <td>3.2</td>\n",
       "      <td>1.3</td>\n",
       "      <td>0.2</td>\n",
       "    </tr>\n",
       "    <tr>\n",
       "      <th>3</th>\n",
       "      <td>4.6</td>\n",
       "      <td>3.1</td>\n",
       "      <td>1.5</td>\n",
       "      <td>0.2</td>\n",
       "    </tr>\n",
       "    <tr>\n",
       "      <th>4</th>\n",
       "      <td>5.0</td>\n",
       "      <td>3.6</td>\n",
       "      <td>1.4</td>\n",
       "      <td>0.2</td>\n",
       "    </tr>\n",
       "  </tbody>\n",
       "</table>\n",
       "</div>"
      ],
      "text/plain": [
       "   sepal length (cm)  sepal width (cm)  petal length (cm)  petal width (cm)\n",
       "0                5.1               3.5                1.4               0.2\n",
       "1                4.9               3.0                1.4               0.2\n",
       "2                4.7               3.2                1.3               0.2\n",
       "3                4.6               3.1                1.5               0.2\n",
       "4                5.0               3.6                1.4               0.2"
      ]
     },
     "execution_count": 51,
     "metadata": {},
     "output_type": "execute_result"
    }
   ],
   "source": [
    "from sklearn.preprocessing import (\n",
    "    StandardScaler, \n",
    "    MinMaxScaler, \n",
    "    MaxAbsScaler, \n",
    "    RobustScaler, \n",
    "    Normalizer, \n",
    "    Binarizer, \n",
    "    QuantileTransformer, \n",
    "    PowerTransformer\n",
    ")\n",
    "\n",
    "# Загрузка данных\n",
    "iris = load_iris()\n",
    "target_names = iris.target_names\n",
    "df = pd.DataFrame(iris.data, columns=iris.feature_names)\n",
    "df.head()"
   ]
  },
  {
   "cell_type": "code",
   "execution_count": 52,
   "id": "b15b722a74f6b730",
   "metadata": {
    "ExecuteTime": {
     "end_time": "2024-11-14T12:07:01.465749Z",
     "start_time": "2024-11-14T12:07:01.436228Z"
    }
   },
   "outputs": [
    {
     "name": "stderr",
     "output_type": "stream",
     "text": [
      "/Library/Python/3.9/site-packages/sklearn/preprocessing/_data.py:2785: UserWarning: n_quantiles (1000) is greater than the total number of samples (75). n_quantiles is set to n_samples.\n",
      "  warnings.warn(\n"
     ]
    },
    {
     "data": {
      "text/html": [
       "<div>\n",
       "<style scoped>\n",
       "    .dataframe tbody tr th:only-of-type {\n",
       "        vertical-align: middle;\n",
       "    }\n",
       "\n",
       "    .dataframe tbody tr th {\n",
       "        vertical-align: top;\n",
       "    }\n",
       "\n",
       "    .dataframe thead th {\n",
       "        text-align: right;\n",
       "    }\n",
       "</style>\n",
       "<table border=\"1\" class=\"dataframe\">\n",
       "  <thead>\n",
       "    <tr style=\"text-align: right;\">\n",
       "      <th></th>\n",
       "      <th>method</th>\n",
       "      <th>accuracy</th>\n",
       "    </tr>\n",
       "  </thead>\n",
       "  <tbody>\n",
       "    <tr>\n",
       "      <th>0</th>\n",
       "      <td>StandardScaler</td>\n",
       "      <td>0.920000</td>\n",
       "    </tr>\n",
       "    <tr>\n",
       "      <th>1</th>\n",
       "      <td>MaxAbsScaler</td>\n",
       "      <td>0.960000</td>\n",
       "    </tr>\n",
       "    <tr>\n",
       "      <th>2</th>\n",
       "      <td>MinMaxScaler</td>\n",
       "      <td>0.933333</td>\n",
       "    </tr>\n",
       "    <tr>\n",
       "      <th>3</th>\n",
       "      <td>Normalizer</td>\n",
       "      <td>0.986667</td>\n",
       "    </tr>\n",
       "    <tr>\n",
       "      <th>4</th>\n",
       "      <td>RobustScaler</td>\n",
       "      <td>0.880000</td>\n",
       "    </tr>\n",
       "    <tr>\n",
       "      <th>5</th>\n",
       "      <td>Binarizer</td>\n",
       "      <td>0.600000</td>\n",
       "    </tr>\n",
       "    <tr>\n",
       "      <th>6</th>\n",
       "      <td>PowerTransformer</td>\n",
       "      <td>0.893333</td>\n",
       "    </tr>\n",
       "    <tr>\n",
       "      <th>7</th>\n",
       "      <td>QuantileTransformer</td>\n",
       "      <td>0.840000</td>\n",
       "    </tr>\n",
       "  </tbody>\n",
       "</table>\n",
       "</div>"
      ],
      "text/plain": [
       "                method  accuracy\n",
       "0       StandardScaler  0.920000\n",
       "1         MaxAbsScaler  0.960000\n",
       "2         MinMaxScaler  0.933333\n",
       "3           Normalizer  0.986667\n",
       "4         RobustScaler  0.880000\n",
       "5            Binarizer  0.600000\n",
       "6     PowerTransformer  0.893333\n",
       "7  QuantileTransformer  0.840000"
      ]
     },
     "execution_count": 52,
     "metadata": {},
     "output_type": "execute_result"
    }
   ],
   "source": [
    "X_train, X_test, y_train, y_test = train_test_split(\n",
    "    iris.data, iris.target, test_size=0.5, random_state=0\n",
    ")\n",
    "\n",
    "transform_methods = [\n",
    "    StandardScaler(),\n",
    "    MaxAbsScaler(),\n",
    "    MinMaxScaler(),\n",
    "    Normalizer(),\n",
    "    RobustScaler(),\n",
    "    Binarizer(threshold=0.6),\n",
    "    PowerTransformer(method='yeo-johnson'),\n",
    "    QuantileTransformer(output_distribution='uniform'),\n",
    "]\n",
    "\n",
    "result = []\n",
    "for method in transform_methods:\n",
    "    method.fit(X_train)\n",
    "    X_train_transformed = method.transform(X_train)\n",
    "    X_test_transformed = method.transform(X_test)\n",
    "    \n",
    "    classifier = KNeighborsClassifier(n_neighbors=1)\n",
    "    classifier.fit(X_train_transformed, y_train)\n",
    "    \n",
    "    y_pred = classifier.predict(X_test_transformed)\n",
    "    \n",
    "    accuracy = accuracy_score(y_test, y_pred)\n",
    "    \n",
    "    result.append([method.__class__.__name__, accuracy])\n",
    "\n",
    "# Создание таблицы для сравнения\n",
    "result_df = pd.DataFrame(result, columns=['method', 'accuracy'])\n",
    "result_df"
   ]
  },
  {
   "cell_type": "code",
   "execution_count": 53,
   "id": "845124b702bf80b2",
   "metadata": {
    "ExecuteTime": {
     "end_time": "2024-11-14T12:07:01.665092Z",
     "start_time": "2024-11-14T12:07:01.569531Z"
    }
   },
   "outputs": [
    {
     "data": {
      "image/png": "[encoded data removed]",
      "text/plain": [
       "<Figure size 1000x500 with 1 Axes>"
      ]
     },
     "metadata": {},
     "output_type": "display_data"
    }
   ],
   "source": [
    "# Вывод графиков\n",
    "plt.figure(figsize=(10, 5))\n",
    "plt.bar(result_df['method'], result_df['accuracy'])\n",
    "plt.xlabel('method')\n",
    "plt.ylabel('accuracy')\n",
    "plt.title('accuracy of KNN Classifier with Different Data Transformations')\n",
    "plt.xticks(rotation=45)\n",
    "plt.show()"
   ]
  }
 ],
 "metadata": {
  "kernelspec": {
   "display_name": "Python 3 (ipykernel)",
   "language": "python",
   "name": "python3"
  },
  "language_info": {
   "codemirror_mode": {
    "name": "ipython",
    "version": 3
   },
   "file_extension": ".py",
   "mimetype": "text/x-python",
   "name": "python",
   "nbconvert_exporter": "python",
   "pygments_lexer": "ipython3",
   "version": "3.13.0"
  }
 },
 "nbformat": 4,
 "nbformat_minor": 5
}
